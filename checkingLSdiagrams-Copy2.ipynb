{
 "cells": [
  {
   "cell_type": "code",
   "execution_count": 2,
   "metadata": {
    "collapsed": false
   },
   "outputs": [],
   "source": [
    "import subprocess\n",
    "import os\n",
    "import matplotlib.pyplot as plt\n",
    "from gatspy import periodic\n",
    "import numpy as np"
   ]
  },
  {
   "cell_type": "code",
   "execution_count": 3,
   "metadata": {
    "collapsed": false
   },
   "outputs": [],
   "source": [
    "dirlist = os.listdir('./me')"
   ]
  },
  {
   "cell_type": "code",
   "execution_count": 4,
   "metadata": {
    "collapsed": true
   },
   "outputs": [],
   "source": [
    "misclist = [x for x in dirlist if 'misc' in x]"
   ]
  },
  {
   "cell_type": "code",
   "execution_count": 7,
   "metadata": {
    "collapsed": false
   },
   "outputs": [],
   "source": [
    "import temporaryFile"
   ]
  },
  {
   "cell_type": "code",
   "execution_count": 8,
   "metadata": {
    "collapsed": true
   },
   "outputs": [],
   "source": [
    "colours = {'u':'blue','g':'green','r':'red','i':'orange','z':'yellow','y':'black'}"
   ]
  },
  {
   "cell_type": "code",
   "execution_count": 10,
   "metadata": {
    "collapsed": false
   },
   "outputs": [
    {
     "name": "stdout",
     "output_type": "stream",
     "text": [
      "1810\n",
      "191\n"
     ]
    }
   ],
   "source": [
    "periodlist = np.logspace(-2.5,1.4)\n",
    "numsteps = 100000\n",
    "fmin = periodlist[0]\n",
    "df = (periodlist[-1]-periodlist[0])/numsteps\n",
    "yes = 0 \n",
    "no = 0\n",
    "for x in range(len(misclist)):\n",
    "    \n",
    "    finder1 = '_'\n",
    "    finder2 = '.'\n",
    "    loc1 = misclist[x].find(finder1)\n",
    "    loc2 = misclist[x].find(finder2)\n",
    "    number = misclist[x][loc1+1:loc2]\n",
    "    try:\n",
    "        number = int(number)\n",
    "    except ValueError:\n",
    "        print(number)\n",
    "    os.chdir('/home/mj1e16/iridisRepo/me')\n",
    "    f = open(misclist[x],'r')\n",
    "    filestring = f.read()\n",
    "    f.close()\n",
    "    filestring = filestring.replace(\" \",\",\")\n",
    "    filestring = filestring.replace(\",,,\",\",\")\n",
    "    filestring = filestring.replace(\",,\",\",\")\n",
    "    filestring = filestring.replace(\",=,\",\"=\")\n",
    "    filestring = filestring.replace(\"[,\",\"[\")\n",
    "    filestring = filestring.replace(\",,\",\",\")\n",
    "    filestring = filestring.replace(\",\\n\",\",\")\n",
    "    filestring = filestring.replace(\"sampledLC\",\"#sampledLC\")\n",
    "    filestring = filestring.replace(\"\\maxpowers\",\"#\\maxpowers\")\n",
    "    f = open('temporaryFile.py','w')\n",
    "    f.write(filestring)\n",
    "    f.close()\n",
    "    reload(temporaryFile)\n",
    "    date = temporaryFile.date\n",
    "    mag = temporaryFile.mag\n",
    "    error = temporaryFile.error\n",
    "    filters = temporaryFile.filts\n",
    "    if len(date) != 0:\n",
    "        yes += 1\n",
    "    else:\n",
    "        no += 1\n",
    "        #print(len(date),misclist[x])\n",
    "print(yes)\n",
    "print(no)\n",
    "    "
   ]
  },
  {
   "cell_type": "code",
   "execution_count": null,
   "metadata": {
    "collapsed": false
   },
   "outputs": [],
   "source": [
    "print(misclist[0][:-3])"
   ]
  },
  {
   "cell_type": "code",
   "execution_count": null,
   "metadata": {
    "collapsed": true
   },
   "outputs": [],
   "source": [
    "temporaryFile.py "
   ]
  }
 ],
 "metadata": {
  "kernelspec": {
   "display_name": "Python 2",
   "language": "python",
   "name": "python2"
  },
  "language_info": {
   "codemirror_mode": {
    "name": "ipython",
    "version": 2
   },
   "file_extension": ".py",
   "mimetype": "text/x-python",
   "name": "python",
   "nbconvert_exporter": "python",
   "pygments_lexer": "ipython2",
   "version": "2.7.13"
  }
 },
 "nbformat": 4,
 "nbformat_minor": 2
}
