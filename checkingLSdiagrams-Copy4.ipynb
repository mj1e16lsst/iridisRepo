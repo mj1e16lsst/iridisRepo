{
 "cells": [
  {
   "cell_type": "code",
   "execution_count": 1,
   "metadata": {
    "collapsed": false
   },
   "outputs": [],
   "source": [
    "import subprocess\n",
    "import os\n",
    "import matplotlib.pyplot as plt\n",
    "from gatspy import periodic\n",
    "import numpy as np"
   ]
  },
  {
   "cell_type": "code",
   "execution_count": 2,
   "metadata": {
    "collapsed": false
   },
   "outputs": [],
   "source": [
    "dirlist = os.listdir('./me')"
   ]
  },
  {
   "cell_type": "code",
   "execution_count": 3,
   "metadata": {
    "collapsed": true
   },
   "outputs": [],
   "source": [
    "misclist = [x for x in dirlist if 'misc' in x]"
   ]
  },
  {
   "cell_type": "code",
   "execution_count": 4,
   "metadata": {
    "collapsed": true
   },
   "outputs": [],
   "source": [
    "colours = {'u':'blue','g':'green','r':'red','i':'orange','z':'yellow','y':'black'}"
   ]
  },
  {
   "cell_type": "code",
   "execution_count": null,
   "metadata": {
    "collapsed": false
   },
   "outputs": [],
   "source": [
    "periodlist = np.logspace(-2.5,1.4)\n",
    "numsteps = 1000000\n",
    "fmin = periodlist[0]\n",
    "df = (periodlist[-1]-periodlist[0])/numsteps\n",
    "\n",
    "for x in range(len(misclist)):\n",
    "    \n",
    "    finder1 = '_'\n",
    "    finder2 = '.'\n",
    "    loc1 = misclist[x].find(finder1)\n",
    "    loc2 = misclist[x].find(finder2)\n",
    "    number = misclist[x][loc1+1:loc2]\n",
    "    try:\n",
    "        number = int(number)\n",
    "    except ValueError:\n",
    "        print(number)\n",
    "    os.chdir('/home/mj1e16/iridisRepo/me')\n",
    "    f = open(misclist[x],'r')\n",
    "    filestring = f.read()\n",
    "    f.close()\n",
    "    filestring = filestring.replace(\" \",\",\")\n",
    "    filestring = filestring.replace(\",,,\",\",\")\n",
    "    filestring = filestring.replace(\",,\",\",\")\n",
    "    filestring = filestring.replace(\",=,\",\"=\")\n",
    "    filestring = filestring.replace(\"[,\",\"[\")\n",
    "    filestring = filestring.replace(\",,\",\",\")\n",
    "    filestring = filestring.replace(\",\\n\",\",\")\n",
    "    filestring = filestring.replace(\"sampledLC\",\"#sampledLC\")\n",
    "    filestring = filestring.replace(\"\\maxpowers\",\"#\\maxpowers\")\n",
    "    f = open('temporaryFile.py','w')\n",
    "    f.write(filestring)\n",
    "    f.close()\n",
    "    if x ==0:\n",
    "        import temporaryFile\n",
    "    else:\n",
    "        reload(temporaryFile)\n",
    "    date = temporaryFile.date\n",
    "    mag = temporaryFile.mag\n",
    "    error = temporaryFile.error\n",
    "    error = [evalue - 0.2 for evalue in error]\n",
    "    filters = temporaryFile.filts\n",
    "    if len(date) != 0:\n",
    "        freqs = fmin + df * np.arange(numsteps) \n",
    "        model = periodic.LombScargleMultibandFast(fit_period=False)\n",
    "        model.fit(date, mag, error, filters)\n",
    "        power = model.score_frequency_grid(fmin, df, numsteps) \n",
    "        model.optimizer.period_range=(0.003, 26)\n",
    "        LSperiod = model.best_period\n",
    "        otherPeriod = power.max()\n",
    "        fig, ax = plt.subplots()\n",
    "        LSfreq = 1/LSperiod\n",
    "        otherFreq = 1/otherPeriod\n",
    "        Actualfrequency = 1/ periodlist[number]\n",
    "        ax.plot(np.log10(freqs), np.log10(power))\n",
    "        ax.set(xlabel='period (days)',\n",
    "               ylabel='Lomb-Scargle Power',\n",
    "              title='Period = '+str(Actualfrequency)+', MeasuredPeriod = '+str(LSfreq)+', MaxPower = '+str(otherFreq))\n",
    "        plt.show()\n",
    "        for y in range(len(date)):\n",
    "            plt.plot(date[y],mag[y],'o',color=colours[filters[y]],markersize=1.5)\n",
    "        plt.show()\n",
    "    else:\n",
    "        print(len(date),misclist[x])\n",
    "\n",
    "    "
   ]
  },
  {
   "cell_type": "code",
   "execution_count": 6,
   "metadata": {
    "collapsed": false
   },
   "outputs": [
    {
     "name": "stdout",
     "output_type": "stream",
     "text": [
      "miscastro19298_17.\n"
     ]
    }
   ],
   "source": [
    "print(misclist[0][:-3])"
   ]
  },
  {
   "cell_type": "code",
   "execution_count": 7,
   "metadata": {
    "collapsed": false
   },
   "outputs": [
    {
     "ename": "AttributeError",
     "evalue": "'module' object has no attribute 'py'",
     "output_type": "error",
     "traceback": [
      "\u001b[0;31m---------------------------------------------------------------------------\u001b[0m",
      "\u001b[0;31mAttributeError\u001b[0m                            Traceback (most recent call last)",
      "\u001b[0;32m<ipython-input-7-35f09f12b13d>\u001b[0m in \u001b[0;36m<module>\u001b[0;34m()\u001b[0m\n\u001b[0;32m----> 1\u001b[0;31m \u001b[0mtemporaryFile\u001b[0m\u001b[0;34m.\u001b[0m\u001b[0mpy\u001b[0m\u001b[0;34m\u001b[0m\u001b[0m\n\u001b[0m",
      "\u001b[0;31mAttributeError\u001b[0m: 'module' object has no attribute 'py'"
     ]
    }
   ],
   "source": [
    "temporaryFile.py "
   ]
  },
  {
   "cell_type": "code",
   "execution_count": null,
   "metadata": {
    "collapsed": true
   },
   "outputs": [],
   "source": []
  }
 ],
 "metadata": {
  "kernelspec": {
   "display_name": "Python 2",
   "language": "python",
   "name": "python2"
  },
  "language_info": {
   "codemirror_mode": {
    "name": "ipython",
    "version": 2
   },
   "file_extension": ".py",
   "mimetype": "text/x-python",
   "name": "python",
   "nbconvert_exporter": "python",
   "pygments_lexer": "ipython2",
   "version": "2.7.13"
  }
 },
 "nbformat": 4,
 "nbformat_minor": 2
}
